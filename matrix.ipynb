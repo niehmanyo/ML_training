{
 "cells": [
  {
   "cell_type": "markdown",
   "id": "cced3b05",
   "metadata": {},
   "source": [
    "# Numpy 函数库\n",
    "\n",
    "numpy.random 随机生成\n",
    "\n",
    "numpy.mat 变成矩阵"
   ]
  },
  {
   "cell_type": "code",
   "execution_count": 21,
   "id": "bfbe4f80",
   "metadata": {},
   "outputs": [
    {
     "data": {
      "text/plain": [
       "matrix([[0.89721671, 0.10917063, 0.51099112, 0.36572358],\n",
       "        [0.01312145, 0.30348989, 0.99746745, 0.77184552],\n",
       "        [0.21869038, 0.80043406, 0.90262903, 0.90925217],\n",
       "        [0.75684557, 0.81944597, 0.22935939, 0.12371664]])"
      ]
     },
     "execution_count": 21,
     "metadata": {},
     "output_type": "execute_result"
    }
   ],
   "source": [
    "import numpy as np\n",
    "np.random.rand(4,4)\n",
    "np.mat(np.random.rand(4,4))"
   ]
  },
  {
   "cell_type": "code",
   "execution_count": 19,
   "id": "cd6dda5a",
   "metadata": {
    "scrolled": true
   },
   "outputs": [
    {
     "name": "stdout",
     "output_type": "stream",
     "text": [
      "----------------------------------------\n",
      "[[1.19643944 2.14143489]\n",
      " [0.40830374 0.50418034]]\n",
      "----------------------------------------\n",
      "[[0.74015772 0.98513418 0.74656633 0.97611477]\n",
      " [0.20607236 0.06047789 0.53765692 0.11138357]]\n",
      "----------------------------------------\n",
      "[[0.52175677 0.50234898]\n",
      " [0.2115024  0.95346236]\n",
      " [0.48470006 0.54865583]\n",
      " [0.24591181 0.43101599]]\n"
     ]
    }
   ],
   "source": [
    "MatA = np.mat(np.random.rand(2,4))\n",
    "MatB = np.mat(np.random.rand(4,2))\n",
    "print(\"-\"*40)\n",
    "print(MatA*MatB)\n",
    "print(\"-\"*40)\n",
    "print(MatA)\n",
    "print(\"-\"*40)\n",
    "print(MatB)"
   ]
  },
  {
   "cell_type": "markdown",
   "id": "b142eb70",
   "metadata": {},
   "source": [
    "## 求逆矩阵"
   ]
  },
  {
   "cell_type": "code",
   "execution_count": 22,
   "id": "3f0d001c",
   "metadata": {},
   "outputs": [
    {
     "data": {
      "text/plain": [
       "matrix([[ 0.20419949,  0.1685664 ],\n",
       "        [ 0.56252073, -0.99477497],\n",
       "        [-0.24251074,  2.05061736],\n",
       "        [ 0.48739363, -0.69223497]])"
      ]
     },
     "execution_count": 22,
     "metadata": {},
     "output_type": "execute_result"
    }
   ],
   "source": [
    "MatA.I"
   ]
  },
  {
   "cell_type": "markdown",
   "id": "e03667c3",
   "metadata": {},
   "source": [
    "### np.eye(n) 是一个n-dimension 的单位矩阵"
   ]
  },
  {
   "cell_type": "code",
   "execution_count": 24,
   "id": "f86f8082",
   "metadata": {},
   "outputs": [
    {
     "data": {
      "text/plain": [
       "array([[1., 0., 0., 0.],\n",
       "       [0., 1., 0., 0.],\n",
       "       [0., 0., 1., 0.],\n",
       "       [0., 0., 0., 1.]])"
      ]
     },
     "execution_count": 24,
     "metadata": {},
     "output_type": "execute_result"
    }
   ],
   "source": [
    "np.eye(4)"
   ]
  },
  {
   "cell_type": "code",
   "execution_count": null,
   "id": "758b7e6a",
   "metadata": {},
   "outputs": [],
   "source": [
    "MatC = np.mat(np.rand)"
   ]
  }
 ],
 "metadata": {
  "kernelspec": {
   "display_name": "Python 3 (ipykernel)",
   "language": "python",
   "name": "python3"
  },
  "language_info": {
   "codemirror_mode": {
    "name": "ipython",
    "version": 3
   },
   "file_extension": ".py",
   "mimetype": "text/x-python",
   "name": "python",
   "nbconvert_exporter": "python",
   "pygments_lexer": "ipython3",
   "version": "3.9.13"
  }
 },
 "nbformat": 4,
 "nbformat_minor": 5
}
