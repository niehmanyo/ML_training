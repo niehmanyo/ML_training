{
 "cells": [
  {
   "cell_type": "markdown",
   "id": "e13f112d",
   "metadata": {},
   "source": [
    "#### Numpy 函数库\n",
    "\n",
    "numpy.random\n",
    "numpy.mat "
   ]
  },
  {
   "cell_type": "code",
   "execution_count": 11,
   "id": "bc0b18c7",
   "metadata": {},
   "outputs": [
    {
     "data": {
      "text/plain": [
       "matrix([[-4.87925388,  3.73692528, -1.27206604,  6.84158353],\n",
       "        [ 5.10858526, -3.36746843,  2.39505375, -9.50211608],\n",
       "        [ 0.64614445, -2.21007415,  0.91679608,  4.10379923],\n",
       "        [-0.68042919,  2.51209562, -2.06166687,  0.44490874]])"
      ]
     },
     "execution_count": 11,
     "metadata": {},
     "output_type": "execute_result"
    }
   ],
   "source": [
    "import numpy as np\n",
    "np.random.rand(4,4)\n",
    "np.mat(np.random.rand(4,4))"
   ]
  },
  {
   "cell_type": "code",
   "execution_count": 19,
   "id": "f5854d20",
   "metadata": {},
   "outputs": [
    {
     "name": "stdout",
     "output_type": "stream",
     "text": [
      "----------------------------------------\n",
      "[[1.19643944 2.14143489]\n",
      " [0.40830374 0.50418034]]\n",
      "----------------------------------------\n",
      "[[0.74015772 0.98513418 0.74656633 0.97611477]\n",
      " [0.20607236 0.06047789 0.53765692 0.11138357]]\n",
      "----------------------------------------\n",
      "[[0.52175677 0.50234898]\n",
      " [0.2115024  0.95346236]\n",
      " [0.48470006 0.54865583]\n",
      " [0.24591181 0.43101599]]\n"
     ]
    }
   ],
   "source": [
    "MatA = np.mat(np.random.rand(2,4))\n",
    "MatB = np.mat(np.random.rand(4,2))\n",
    "print(\"-\"*40)\n",
    "print(MatA*MatB)\n",
    "print(\"-\"*40)\n",
    "print(MatA)\n",
    "print(\"-\"*40)\n",
    "print(MatB)"
   ]
  },
  {
   "cell_type": "code",
   "execution_count": null,
   "id": "f595e308",
   "metadata": {},
   "outputs": [],
   "source": []
  },
  {
   "cell_type": "code",
   "execution_count": null,
   "id": "2f326fc0",
   "metadata": {},
   "outputs": [],
   "source": []
  }
 ],
 "metadata": {
  "kernelspec": {
   "display_name": "Python 3 (ipykernel)",
   "language": "python",
   "name": "python3"
  },
  "language_info": {
   "codemirror_mode": {
    "name": "ipython",
    "version": 3
   },
   "file_extension": ".py",
   "mimetype": "text/x-python",
   "name": "python",
   "nbconvert_exporter": "python",
   "pygments_lexer": "ipython3",
   "version": "3.9.13"
  }
 },
 "nbformat": 4,
 "nbformat_minor": 5
}
