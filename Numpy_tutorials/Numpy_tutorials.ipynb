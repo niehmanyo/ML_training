{
 "cells": [
  {
   "cell_type": "markdown",
   "id": "b71996d1",
   "metadata": {},
   "source": [
    "# Numpy\n",
    "NumPy is a Python library used for working with arrays.\n",
    "\n",
    "It also has functions for working in domain of linear algebra, fourier transform, and matrices.\n",
    "\n",
    "NumPy was created in 2005 by Travis Oliphant. It is an open source project and you can use it freely.\n",
    "\n",
    "NumPy stands for Numerical Python.\n",
    "<a href = \"https://www.w3schools.com/python/numpy/default.asp\">reference link</a>"
   ]
  },
  {
   "cell_type": "markdown",
   "id": "cd519037",
   "metadata": {},
   "source": [
    " <i>@author: Nie</i>\n",
    " \n",
    " <i>@date: 2023/2/10</i>\n"
   ]
  },
  {
   "cell_type": "code",
   "execution_count": 2,
   "id": "3440a177",
   "metadata": {},
   "outputs": [
    {
     "name": "stdout",
     "output_type": "stream",
     "text": [
      "[ 1 23  3  4  5  7]\n",
      "[[12  2  3]\n",
      " [ 2  3  4]]\n"
     ]
    }
   ],
   "source": [
    "import numpy as np\n",
    "a = np.array([1,23,3,4,5,7])\n",
    "## 一维数组\n",
    "print(a)\n",
    "\n",
    "b = np.array([[12,2,3],[2,3,4]])\n",
    "print(b)"
   ]
  },
  {
   "cell_type": "code",
   "execution_count": 3,
   "id": "bf8ec857",
   "metadata": {},
   "outputs": [
    {
     "name": "stdout",
     "output_type": "stream",
     "text": [
      "1.21.5\n"
     ]
    }
   ],
   "source": [
    "# 查看numpy的版本\n",
    "def check_version(version):\n",
    "    print(version)\n",
    "    \n",
    "check_version(np.__version__)"
   ]
  },
  {
   "cell_type": "code",
   "execution_count": 4,
   "id": "babc182f",
   "metadata": {},
   "outputs": [
    {
     "name": "stdout",
     "output_type": "stream",
     "text": [
      "[[0. 0.]\n",
      " [0. 0.]]\n",
      "the type of arr:<class 'numpy.ndarray'>\n",
      "[[1. 1. 1.]\n",
      " [1. 1. 1.]\n",
      " [1. 1. 1.]]\n"
     ]
    }
   ],
   "source": [
    "# ndarray: N-Dimensional array(ndarray) in Numpy \n",
    "# Array in Numpy is a table of elements (usually numbers), \n",
    "# all of the same type, indexed by a tuple of positive integers. \n",
    "# In Numpy, number of dimensions of the array is called rank of the array.\n",
    "# A tuple of integers giving the size of the array along each dimension is known as shape of the array. \n",
    "# An array class in Numpy is called as ndarray\n",
    "\n",
    "arr = np.ndarray((2,2))\n",
    "print(arr)\n",
    "print(\"the type of arr:\" + str(type(arr)))\n",
    "\n",
    "brr = np.ones((3,3))\n",
    "print(brr)"
   ]
  },
  {
   "cell_type": "code",
   "execution_count": 24,
   "id": "b9a8f0ce",
   "metadata": {},
   "outputs": [
    {
     "name": "stdout",
     "output_type": "stream",
     "text": [
      "2.0\n",
      "0.12472191289246473\n",
      "[1, 2, 3]\n",
      "3.8\n"
     ]
    }
   ],
   "source": [
    "## numpy 还提供了mean求平均值，\n",
    "## [] 和 （） 都可求\n",
    "print(np.mean([1,2,3]))\n",
    "print(np.std([1,1.1,1.3]))\n",
    "print(sorted([3,2,1]))\n",
    "print(np.percentile([5,31,43,48,50,41,7,11,15,39,80,82,32,2,8,6,25,36,27,61,31],3))"
   ]
  },
  {
   "cell_type": "markdown",
   "id": "16134949",
   "metadata": {},
   "source": [
    "# Matplotlib"
   ]
  },
  {
   "cell_type": "code",
   "execution_count": 31,
   "id": "5c083d80",
   "metadata": {},
   "outputs": [
    {
     "name": "stdout",
     "output_type": "stream",
     "text": [
      "3.5.2\n"
     ]
    },
    {
     "data": {
      "image/png": "[encoded data removed]",
      "text/plain": [
       "<Figure size 640x480 with 1 Axes>"
      ]
     },
     "metadata": {},
     "output_type": "display_data"
    }
   ],
   "source": [
    "import matplotlib.pyplot as plt\n",
    "print(matplotlib.__version__)\n",
    "x = np.array([1,8])\n",
    "y = np.array([1,64])\n",
    "plt.plot(x,y)\n",
    "plt.show()"
   ]
  },
  {
   "cell_type": "code",
   "execution_count": null,
   "id": "9ddb45c0",
   "metadata": {},
   "outputs": [],
   "source": []
  }
 ],
 "metadata": {
  "kernelspec": {
   "display_name": "Python 3",
   "language": "python",
   "name": "python3"
  },
  "language_info": {
   "codemirror_mode": {
    "name": "ipython",
    "version": 3
   },
   "file_extension": ".py",
   "mimetype": "text/x-python",
   "name": "python",
   "nbconvert_exporter": "python",
   "pygments_lexer": "ipython3",
   "version": "3.9.6"
  },
  "vscode": {
   "interpreter": {
    "hash": "31f2aee4e71d21fbe5cf8b01ff0e069b9275f58929596ceb00d14d90e3e16cd6"
   }
  }
 },
 "nbformat": 4,
 "nbformat_minor": 5
}
