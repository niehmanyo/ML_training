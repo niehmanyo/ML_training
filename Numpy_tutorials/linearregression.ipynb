{
 "cells": [
  {
   "cell_type": "markdown",
   "metadata": {},
   "source": [
    "# Linear regression"
   ]
  },
  {
   "attachments": {},
   "cell_type": "markdown",
   "metadata": {},
   "source": []
  },
  {
   "cell_type": "code",
   "execution_count": null,
   "metadata": {},
   "outputs": [],
   "source": [
    "import matplotlib.pyplot as plt\n",
    "from scipy import stats\n",
    "x = [5,7,8,7,2,17,2,9,4,11,12,9,6]\n",
    "y = [99,86,87,88,111,86,103,87,94,78,77,85,86]\n",
    "slope,intercept,r,p,std_err = stats.linregress(x,y)\n",
    "def f(x):\n",
    "    return slope * x + intercept\n",
    "mymodel = list(map(f,x))\n",
    "plt.scatter(x,y)\n",
    "plt.plot(x,mymodel,color = 'r')\n",
    "plt.show()"
   ]
  }
 ],
 "metadata": {
  "kernelspec": {
   "display_name": "base",
   "language": "python",
   "name": "python3"
  },
  "language_info": {
   "codemirror_mode": {
    "name": "ipython",
    "version": 3
   },
   "file_extension": ".py",
   "mimetype": "text/x-python",
   "name": "python",
   "nbconvert_exporter": "python",
   "pygments_lexer": "ipython3",
   "version": "3.9.13"
  },
  "orig_nbformat": 4,
  "vscode": {
   "interpreter": {
    "hash": "329719063b3b028df5b350139eee11d524c594ab9b329a9ef51ad6ab5a02863e"
   }
  }
 },
 "nbformat": 4,
 "nbformat_minor": 2
}
