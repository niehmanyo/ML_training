{
 "cells": [
  {
   "cell_type": "markdown",
   "id": "b71996d1",
   "metadata": {},
   "source": [
    "# Numpy\n",
    "NumPy is a Python library used for working with arrays.\n",
    "\n",
    "It also has functions for working in domain of linear algebra, fourier transform, and matrices.\n",
    "\n",
    "NumPy was created in 2005 by Travis Oliphant. It is an open source project and you can use it freely.\n",
    "\n",
    "NumPy stands for Numerical Python.\n",
    "<a href = \"https://www.w3schools.com/python/numpy/default.asp\">reference link</a>"
   ]
  },
  {
   "cell_type": "markdown",
   "id": "cd519037",
   "metadata": {},
   "source": [
    " <i>@author: Nie</i>\n",
    " \n",
    " <i>@date: 2023/2/10</i>\n"
   ]
  },
  {
   "cell_type": "code",
   "execution_count": 2,
   "id": "3440a177",
   "metadata": {},
   "outputs": [
    {
     "name": "stdout",
     "output_type": "stream",
     "text": [
      "[ 1 23  3  4  5  7]\n",
      "[[12  2  3]\n",
      " [ 2  3  4]]\n"
     ]
    }
   ],
   "source": [
    "import numpy as np\n",
    "a = np.array([1,23,3,4,5,7])\n",
    "## 一维数组\n",
    "print(a)\n",
    "\n",
    "b = np.array([[12,2,3],[2,3,4]])\n",
    "print(b)"
   ]
  },
  {
   "cell_type": "code",
   "execution_count": 3,
   "id": "bf8ec857",
   "metadata": {},
   "outputs": [
    {
     "name": "stdout",
     "output_type": "stream",
     "text": [
      "1.21.5\n"
     ]
    }
   ],
   "source": [
    "# 查看numpy的版本\n",
    "def check_version(version):\n",
    "    print(version)\n",
    "    \n",
    "check_version(np.__version__)"
   ]
  },
  {
   "cell_type": "code",
   "execution_count": 4,
   "id": "babc182f",
   "metadata": {},
   "outputs": [
    {
     "name": "stdout",
     "output_type": "stream",
     "text": [
      "[[0. 0.]\n",
      " [0. 0.]]\n",
      "the type of arr:<class 'numpy.ndarray'>\n",
      "[[1. 1. 1.]\n",
      " [1. 1. 1.]\n",
      " [1. 1. 1.]]\n"
     ]
    }
   ],
   "source": [
    "# ndarray: N-Dimensional array(ndarray) in Numpy \n",
    "# Array in Numpy is a table of elements (usually numbers), \n",
    "# all of the same type, indexed by a tuple of positive integers. \n",
    "# In Numpy, number of dimensions of the array is called rank of the array.\n",
    "# A tuple of integers giving the size of the array along each dimension is known as shape of the array. \n",
    "# An array class in Numpy is called as ndarray\n",
    "\n",
    "arr = np.ndarray((2,2))\n",
    "print(arr)\n",
    "print(\"the type of arr:\" + str(type(arr)))\n",
    "\n",
    "brr = np.ones((3,3))\n",
    "print(brr)"
   ]
  },
  {
   "cell_type": "code",
   "execution_count": 12,
   "id": "b9a8f0ce",
   "metadata": {},
   "outputs": [
    {
     "name": "stdout",
     "output_type": "stream",
     "text": [
      "2.0\n"
     ]
    }
   ],
   "source": [
    "## numpy 还提供了mean求平均值，\n",
    "## [] 和 （） 都可求\n",
    "print(np.mean([1,2,3]))"
   ]
  },
  {
   "cell_type": "code",
   "execution_count": null,
   "id": "3ea13f4e",
   "metadata": {},
   "outputs": [],
   "source": []
  }
 ],
 "metadata": {
  "kernelspec": {
   "display_name": "Python 3 (ipykernel)",
   "language": "python",
   "name": "python3"
  },
  "language_info": {
   "codemirror_mode": {
    "name": "ipython",
    "version": 3
   },
   "file_extension": ".py",
   "mimetype": "text/x-python",
   "name": "python",
   "nbconvert_exporter": "python",
   "pygments_lexer": "ipython3",
   "version": "3.9.13"
  }
 },
 "nbformat": 4,
 "nbformat_minor": 5
}
